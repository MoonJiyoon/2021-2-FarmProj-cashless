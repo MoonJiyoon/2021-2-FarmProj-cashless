{
 "cells": [
  {
   "cell_type": "code",
   "execution_count": 212,
   "id": "cb6a1784",
   "metadata": {
    "scrolled": true
   },
   "outputs": [
    {
     "data": {
      "text/html": [
       "<div>\n",
       "<style scoped>\n",
       "    .dataframe tbody tr th:only-of-type {\n",
       "        vertical-align: middle;\n",
       "    }\n",
       "\n",
       "    .dataframe tbody tr th {\n",
       "        vertical-align: top;\n",
       "    }\n",
       "\n",
       "    .dataframe thead th {\n",
       "        text-align: right;\n",
       "    }\n",
       "</style>\n",
       "<table border=\"1\" class=\"dataframe\">\n",
       "  <thead>\n",
       "    <tr style=\"text-align: right;\">\n",
       "      <th></th>\n",
       "      <th>행정동</th>\n",
       "      <th>지번</th>\n",
       "    </tr>\n",
       "  </thead>\n",
       "  <tbody>\n",
       "    <tr>\n",
       "      <th>0</th>\n",
       "      <td>삼성1동</td>\n",
       "      <td>서울특별시 강남구 삼성동 168-1</td>\n",
       "    </tr>\n",
       "    <tr>\n",
       "      <th>1</th>\n",
       "      <td>도곡2동</td>\n",
       "      <td>서울특별시 강남구 도곡동 91-5</td>\n",
       "    </tr>\n",
       "    <tr>\n",
       "      <th>2</th>\n",
       "      <td>반포2동</td>\n",
       "      <td>서울특별시 서초구 반포동 18-3</td>\n",
       "    </tr>\n",
       "    <tr>\n",
       "      <th>3</th>\n",
       "      <td>서초2동</td>\n",
       "      <td>서울특별시 서초구 서초동 1319-5</td>\n",
       "    </tr>\n",
       "    <tr>\n",
       "      <th>4</th>\n",
       "      <td>압구정동</td>\n",
       "      <td>서울특별시 강남구 신사동 611</td>\n",
       "    </tr>\n",
       "    <tr>\n",
       "      <th>...</th>\n",
       "      <td>...</td>\n",
       "      <td>...</td>\n",
       "    </tr>\n",
       "    <tr>\n",
       "      <th>1876</th>\n",
       "      <td>역삼1동</td>\n",
       "      <td>서울특별시 강남구 역삼동 642-6</td>\n",
       "    </tr>\n",
       "    <tr>\n",
       "      <th>1877</th>\n",
       "      <td>역삼1동</td>\n",
       "      <td>서울특별시 강남구 역삼동 642-6</td>\n",
       "    </tr>\n",
       "    <tr>\n",
       "      <th>1878</th>\n",
       "      <td>종로5.6가동</td>\n",
       "      <td>서울특별시 종로구 종로5가 98</td>\n",
       "    </tr>\n",
       "    <tr>\n",
       "      <th>1879</th>\n",
       "      <td>역삼1동</td>\n",
       "      <td>서울특별시 강남구 역삼동 635-2</td>\n",
       "    </tr>\n",
       "    <tr>\n",
       "      <th>1880</th>\n",
       "      <td>한강로동</td>\n",
       "      <td>서울특별시 용산구 한강로2가 420</td>\n",
       "    </tr>\n",
       "  </tbody>\n",
       "</table>\n",
       "<p>1881 rows × 2 columns</p>\n",
       "</div>"
      ],
      "text/plain": [
       "          행정동                    지번\n",
       "0        삼성1동   서울특별시 강남구 삼성동 168-1\n",
       "1        도곡2동    서울특별시 강남구 도곡동 91-5\n",
       "2        반포2동    서울특별시 서초구 반포동 18-3\n",
       "3        서초2동  서울특별시 서초구 서초동 1319-5\n",
       "4        압구정동     서울특별시 강남구 신사동 611\n",
       "...       ...                   ...\n",
       "1876     역삼1동   서울특별시 강남구 역삼동 642-6\n",
       "1877     역삼1동   서울특별시 강남구 역삼동 642-6\n",
       "1878  종로5.6가동     서울특별시 종로구 종로5가 98\n",
       "1879     역삼1동   서울특별시 강남구 역삼동 635-2\n",
       "1880     한강로동   서울특별시 용산구 한강로2가 420\n",
       "\n",
       "[1881 rows x 2 columns]"
      ]
     },
     "execution_count": 212,
     "metadata": {},
     "output_type": "execute_result"
    }
   ],
   "source": [
    "import pandas as pd\n",
    "df = pd.read_csv('서울_은행_점포_주소.CSV', encoding='cp949')\n",
    "df = df[['행정동', '지번']]\n",
    "df"
   ]
  },
  {
   "cell_type": "code",
   "execution_count": 199,
   "id": "6e14fcb8",
   "metadata": {
    "scrolled": true
   },
   "outputs": [
    {
     "data": {
      "text/html": [
       "<div>\n",
       "<style scoped>\n",
       "    .dataframe tbody tr th:only-of-type {\n",
       "        vertical-align: middle;\n",
       "    }\n",
       "\n",
       "    .dataframe tbody tr th {\n",
       "        vertical-align: top;\n",
       "    }\n",
       "\n",
       "    .dataframe thead th {\n",
       "        text-align: right;\n",
       "    }\n",
       "</style>\n",
       "<table border=\"1\" class=\"dataframe\">\n",
       "  <thead>\n",
       "    <tr style=\"text-align: right;\">\n",
       "      <th></th>\n",
       "      <th>행정동</th>\n",
       "      <th>구</th>\n",
       "    </tr>\n",
       "  </thead>\n",
       "  <tbody>\n",
       "    <tr>\n",
       "      <th>0</th>\n",
       "      <td>삼성1동</td>\n",
       "      <td>강남구</td>\n",
       "    </tr>\n",
       "    <tr>\n",
       "      <th>1</th>\n",
       "      <td>도곡2동</td>\n",
       "      <td>강남구</td>\n",
       "    </tr>\n",
       "    <tr>\n",
       "      <th>2</th>\n",
       "      <td>반포2동</td>\n",
       "      <td>서초구</td>\n",
       "    </tr>\n",
       "    <tr>\n",
       "      <th>3</th>\n",
       "      <td>서초2동</td>\n",
       "      <td>서초구</td>\n",
       "    </tr>\n",
       "    <tr>\n",
       "      <th>4</th>\n",
       "      <td>압구정동</td>\n",
       "      <td>강남구</td>\n",
       "    </tr>\n",
       "    <tr>\n",
       "      <th>...</th>\n",
       "      <td>...</td>\n",
       "      <td>...</td>\n",
       "    </tr>\n",
       "    <tr>\n",
       "      <th>1876</th>\n",
       "      <td>역삼1동</td>\n",
       "      <td>강남구</td>\n",
       "    </tr>\n",
       "    <tr>\n",
       "      <th>1877</th>\n",
       "      <td>역삼1동</td>\n",
       "      <td>강남구</td>\n",
       "    </tr>\n",
       "    <tr>\n",
       "      <th>1878</th>\n",
       "      <td>종로5.6가동</td>\n",
       "      <td>종로구</td>\n",
       "    </tr>\n",
       "    <tr>\n",
       "      <th>1879</th>\n",
       "      <td>역삼1동</td>\n",
       "      <td>강남구</td>\n",
       "    </tr>\n",
       "    <tr>\n",
       "      <th>1880</th>\n",
       "      <td>한강로동</td>\n",
       "      <td>용산구</td>\n",
       "    </tr>\n",
       "  </tbody>\n",
       "</table>\n",
       "<p>1881 rows × 2 columns</p>\n",
       "</div>"
      ],
      "text/plain": [
       "          행정동    구\n",
       "0        삼성1동  강남구\n",
       "1        도곡2동  강남구\n",
       "2        반포2동  서초구\n",
       "3        서초2동  서초구\n",
       "4        압구정동  강남구\n",
       "...       ...  ...\n",
       "1876     역삼1동  강남구\n",
       "1877     역삼1동  강남구\n",
       "1878  종로5.6가동  종로구\n",
       "1879     역삼1동  강남구\n",
       "1880     한강로동  용산구\n",
       "\n",
       "[1881 rows x 2 columns]"
      ]
     },
     "execution_count": 199,
     "metadata": {},
     "output_type": "execute_result"
    }
   ],
   "source": [
    "df['구'] = df.지번.str.split(\" \").str[1]\n",
    "df.drop('지번', axis=1, inplace=True)\n",
    "df"
   ]
  },
  {
   "cell_type": "code",
   "execution_count": 200,
   "id": "64d1a6a1",
   "metadata": {
    "scrolled": false
   },
   "outputs": [
    {
     "data": {
      "text/plain": [
       "구    행정동 \n",
       "강남구  개포1동     1\n",
       "     개포2동     3\n",
       "     개포4동     4\n",
       "     논현1동    15\n",
       "     논현2동    16\n",
       "             ..\n",
       "중랑구  상봉2동     3\n",
       "     신내1동     2\n",
       "     신내2동     3\n",
       "     중화1동     2\n",
       "     중화2동     3\n",
       "Length: 369, dtype: int64"
      ]
     },
     "execution_count": 200,
     "metadata": {},
     "output_type": "execute_result"
    }
   ],
   "source": [
    "df.groupby(by = ['구', '행정동']).size()"
   ]
  },
  {
   "cell_type": "code",
   "execution_count": 201,
   "id": "2da3d3c6",
   "metadata": {
    "scrolled": true
   },
   "outputs": [
    {
     "data": {
      "text/html": [
       "<div>\n",
       "<style scoped>\n",
       "    .dataframe tbody tr th:only-of-type {\n",
       "        vertical-align: middle;\n",
       "    }\n",
       "\n",
       "    .dataframe tbody tr th {\n",
       "        vertical-align: top;\n",
       "    }\n",
       "\n",
       "    .dataframe thead th {\n",
       "        text-align: right;\n",
       "    }\n",
       "</style>\n",
       "<table border=\"1\" class=\"dataframe\">\n",
       "  <thead>\n",
       "    <tr style=\"text-align: right;\">\n",
       "      <th></th>\n",
       "      <th>행정동</th>\n",
       "      <th>수</th>\n",
       "    </tr>\n",
       "  </thead>\n",
       "  <tbody>\n",
       "    <tr>\n",
       "      <th>0</th>\n",
       "      <td>사직동</td>\n",
       "      <td>0</td>\n",
       "    </tr>\n",
       "    <tr>\n",
       "      <th>1</th>\n",
       "      <td>삼청동</td>\n",
       "      <td>0</td>\n",
       "    </tr>\n",
       "    <tr>\n",
       "      <th>2</th>\n",
       "      <td>부암동</td>\n",
       "      <td>0</td>\n",
       "    </tr>\n",
       "    <tr>\n",
       "      <th>3</th>\n",
       "      <td>평창동</td>\n",
       "      <td>0</td>\n",
       "    </tr>\n",
       "    <tr>\n",
       "      <th>4</th>\n",
       "      <td>무악동</td>\n",
       "      <td>0</td>\n",
       "    </tr>\n",
       "    <tr>\n",
       "      <th>...</th>\n",
       "      <td>...</td>\n",
       "      <td>...</td>\n",
       "    </tr>\n",
       "    <tr>\n",
       "      <th>419</th>\n",
       "      <td>암사1동</td>\n",
       "      <td>0</td>\n",
       "    </tr>\n",
       "    <tr>\n",
       "      <th>420</th>\n",
       "      <td>천호2동</td>\n",
       "      <td>0</td>\n",
       "    </tr>\n",
       "    <tr>\n",
       "      <th>421</th>\n",
       "      <td>길동</td>\n",
       "      <td>0</td>\n",
       "    </tr>\n",
       "    <tr>\n",
       "      <th>422</th>\n",
       "      <td>강일동</td>\n",
       "      <td>0</td>\n",
       "    </tr>\n",
       "    <tr>\n",
       "      <th>423</th>\n",
       "      <td>상일동</td>\n",
       "      <td>0</td>\n",
       "    </tr>\n",
       "  </tbody>\n",
       "</table>\n",
       "<p>424 rows × 2 columns</p>\n",
       "</div>"
      ],
      "text/plain": [
       "      행정동  수\n",
       "0     사직동  0\n",
       "1     삼청동  0\n",
       "2     부암동  0\n",
       "3     평창동  0\n",
       "4     무악동  0\n",
       "..    ... ..\n",
       "419  암사1동  0\n",
       "420  천호2동  0\n",
       "421    길동  0\n",
       "422   강일동  0\n",
       "423   상일동  0\n",
       "\n",
       "[424 rows x 2 columns]"
      ]
     },
     "execution_count": 201,
     "metadata": {},
     "output_type": "execute_result"
    }
   ],
   "source": [
    "dong = pd.read_csv('서울시 행정동.csv', encoding='cp949')\n",
    "dong['수'] = 0\n",
    "dong"
   ]
  },
  {
   "cell_type": "code",
   "execution_count": 202,
   "id": "5c92b0ae",
   "metadata": {},
   "outputs": [
    {
     "name": "stderr",
     "output_type": "stream",
     "text": [
      "C:\\Users\\minse\\AppData\\Local\\Temp/ipykernel_28584/1131161165.py:7: SettingWithCopyWarning: \n",
      "A value is trying to be set on a copy of a slice from a DataFrame\n",
      "\n",
      "See the caveats in the documentation: https://pandas.pydata.org/pandas-docs/stable/user_guide/indexing.html#returning-a-view-versus-a-copy\n",
      "  dong['수'][n] = dong['수'][n] + 1\n"
     ]
    }
   ],
   "source": [
    "error = []\n",
    "for i in df['행정동']:\n",
    "    for j in dong['행정동']:\n",
    "        if j==i:\n",
    "            n = dong.index[dong['행정동'] == j].tolist()\n",
    "            n = n[0]\n",
    "            dong['수'][n] = dong['수'][n] + 1"
   ]
  },
  {
   "cell_type": "code",
   "execution_count": 203,
   "id": "5c8baab8",
   "metadata": {
    "scrolled": true
   },
   "outputs": [
    {
     "data": {
      "text/html": [
       "<div>\n",
       "<style scoped>\n",
       "    .dataframe tbody tr th:only-of-type {\n",
       "        vertical-align: middle;\n",
       "    }\n",
       "\n",
       "    .dataframe tbody tr th {\n",
       "        vertical-align: top;\n",
       "    }\n",
       "\n",
       "    .dataframe thead th {\n",
       "        text-align: right;\n",
       "    }\n",
       "</style>\n",
       "<table border=\"1\" class=\"dataframe\">\n",
       "  <thead>\n",
       "    <tr style=\"text-align: right;\">\n",
       "      <th></th>\n",
       "      <th>행정동</th>\n",
       "      <th>수</th>\n",
       "    </tr>\n",
       "  </thead>\n",
       "  <tbody>\n",
       "    <tr>\n",
       "      <th>0</th>\n",
       "      <td>사직동</td>\n",
       "      <td>23</td>\n",
       "    </tr>\n",
       "    <tr>\n",
       "      <th>1</th>\n",
       "      <td>삼청동</td>\n",
       "      <td>4</td>\n",
       "    </tr>\n",
       "    <tr>\n",
       "      <th>2</th>\n",
       "      <td>부암동</td>\n",
       "      <td>2</td>\n",
       "    </tr>\n",
       "    <tr>\n",
       "      <th>3</th>\n",
       "      <td>평창동</td>\n",
       "      <td>2</td>\n",
       "    </tr>\n",
       "    <tr>\n",
       "      <th>4</th>\n",
       "      <td>무악동</td>\n",
       "      <td>1</td>\n",
       "    </tr>\n",
       "    <tr>\n",
       "      <th>...</th>\n",
       "      <td>...</td>\n",
       "      <td>...</td>\n",
       "    </tr>\n",
       "    <tr>\n",
       "      <th>419</th>\n",
       "      <td>암사1동</td>\n",
       "      <td>1</td>\n",
       "    </tr>\n",
       "    <tr>\n",
       "      <th>420</th>\n",
       "      <td>천호2동</td>\n",
       "      <td>3</td>\n",
       "    </tr>\n",
       "    <tr>\n",
       "      <th>421</th>\n",
       "      <td>길동</td>\n",
       "      <td>8</td>\n",
       "    </tr>\n",
       "    <tr>\n",
       "      <th>422</th>\n",
       "      <td>강일동</td>\n",
       "      <td>1</td>\n",
       "    </tr>\n",
       "    <tr>\n",
       "      <th>423</th>\n",
       "      <td>상일동</td>\n",
       "      <td>4</td>\n",
       "    </tr>\n",
       "  </tbody>\n",
       "</table>\n",
       "<p>424 rows × 2 columns</p>\n",
       "</div>"
      ],
      "text/plain": [
       "      행정동   수\n",
       "0     사직동  23\n",
       "1     삼청동   4\n",
       "2     부암동   2\n",
       "3     평창동   2\n",
       "4     무악동   1\n",
       "..    ...  ..\n",
       "419  암사1동   1\n",
       "420  천호2동   3\n",
       "421    길동   8\n",
       "422   강일동   1\n",
       "423   상일동   4\n",
       "\n",
       "[424 rows x 2 columns]"
      ]
     },
     "execution_count": 203,
     "metadata": {},
     "output_type": "execute_result"
    }
   ],
   "source": [
    "dong"
   ]
  },
  {
   "cell_type": "code",
   "execution_count": 204,
   "id": "4cb8dc4e",
   "metadata": {},
   "outputs": [
    {
     "data": {
      "text/plain": [
       "1881"
      ]
     },
     "execution_count": 204,
     "metadata": {},
     "output_type": "execute_result"
    }
   ],
   "source": [
    "dong['수'].sum()"
   ]
  },
  {
   "cell_type": "code",
   "execution_count": 205,
   "id": "427a2386",
   "metadata": {},
   "outputs": [],
   "source": [
    "dong.to_csv('서울시 행정동별 은행 지점 수.csv', encoding='cp949')"
   ]
  },
  {
   "cell_type": "code",
   "execution_count": 206,
   "id": "f7e6a328",
   "metadata": {},
   "outputs": [],
   "source": [
    "mydic = {}\n",
    "for d in dong:\n",
    "    for idx, row in enumerate(df['행정동']):\n",
    "        if d == row:\n",
    "            mydic[dong] = [row['cnt']]"
   ]
  },
  {
   "cell_type": "code",
   "execution_count": 207,
   "id": "71049ef7",
   "metadata": {},
   "outputs": [
    {
     "data": {
      "text/plain": [
       "{}"
      ]
     },
     "execution_count": 207,
     "metadata": {},
     "output_type": "execute_result"
    }
   ],
   "source": [
    "mydic"
   ]
  },
  {
   "cell_type": "code",
   "execution_count": 208,
   "id": "70ffcc43",
   "metadata": {},
   "outputs": [],
   "source": [
    "csv = df['행정동'].unique().tolist()\n",
    "real = dong['행정동'].unique().tolist()\n",
    "\n",
    "for i in csv:\n",
    "    if i not in real:\n",
    "        print(i)"
   ]
  }
 ],
 "metadata": {
  "kernelspec": {
   "display_name": "Python 3 (ipykernel)",
   "language": "python",
   "name": "python3"
  },
  "language_info": {
   "codemirror_mode": {
    "name": "ipython",
    "version": 3
   },
   "file_extension": ".py",
   "mimetype": "text/x-python",
   "name": "python",
   "nbconvert_exporter": "python",
   "pygments_lexer": "ipython3",
   "version": "3.8.5"
  }
 },
 "nbformat": 4,
 "nbformat_minor": 5
}
