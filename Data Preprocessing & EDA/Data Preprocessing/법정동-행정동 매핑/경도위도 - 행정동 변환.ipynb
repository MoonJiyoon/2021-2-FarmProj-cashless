{
 "cells": [
  {
   "cell_type": "markdown",
   "id": "bdd9e579",
   "metadata": {},
   "source": [
    "#### 경도 위도 --> 주소 변환"
   ]
  },
  {
   "cell_type": "code",
   "execution_count": 2,
   "id": "567dda69",
   "metadata": {},
   "outputs": [],
   "source": [
    "import pandas as pd\n",
    "import requests \n",
    "import sys\n",
    "import json\n",
    "import datetime "
   ]
  },
  {
   "cell_type": "code",
   "execution_count": 3,
   "id": "54c7334d",
   "metadata": {},
   "outputs": [],
   "source": [
    "def json_request(url='', encoding='utf-8', success=None, error=lambda e: print('%s : %s' % (e, datetime.now()), file=sys.stderr)):\n",
    "    headers = {'Authorization': 'KakaoAK {}'.format(APP_KEY)}\n",
    "    resp = requests.get(url, headers=headers)\n",
    "    # print('%s : success for request [%s]' % (datetime.now(), url))\n",
    "    return resp.text"
   ]
  },
  {
   "cell_type": "code",
   "execution_count": 4,
   "id": "f9e3c1b4",
   "metadata": {},
   "outputs": [],
   "source": [
    "def reverse_geocode(longitude, latitude):\n",
    "    # 파라미터 최적화하여 url 생성\n",
    "    url = '%s?x=%s&y=%s' %(URL, longitude, latitude)\n",
    "    # json request\n",
    "    try:\n",
    "        # print('try')\n",
    "        json_req = json_request(url=url)\n",
    "        json_data = json.loads(json_req)\n",
    "        json_doc = json_data.get('documents')[0]\n",
    "        json_name = json_doc.get('address_name')\n",
    "        json_code = json_doc.get('code')\n",
    "    except:\n",
    "        # print('nan')\n",
    "        json_name = 'NaN'\n",
    "        json_code = 'NaN'\n",
    "    return json_name, json_code"
   ]
  },
  {
   "cell_type": "code",
   "execution_count": 5,
   "id": "9d7d1fc9",
   "metadata": {},
   "outputs": [],
   "source": [
    "def get_address(x,y):\n",
    "    address = []        \n",
    "    json_name, json_code = reverse_geocode(x, y) \n",
    "    address.append(json_name)\n",
    "    return address"
   ]
  },
  {
   "cell_type": "code",
   "execution_count": 6,
   "id": "b08d545f",
   "metadata": {},
   "outputs": [],
   "source": [
    "def get_code(x,y):\n",
    "    code = []        \n",
    "    json_name, json_code = reverse_geocode(x, y) \n",
    "    code.append(json_code)\n",
    "    return code"
   ]
  },
  {
   "cell_type": "code",
   "execution_count": 7,
   "id": "8822fa91",
   "metadata": {},
   "outputs": [
    {
     "name": "stdout",
     "output_type": "stream",
     "text": [
      "0 번째 경위도 좌표계에 대한 정보 불러오는 중...\n",
      "100 번째 경위도 좌표계에 대한 정보 불러오는 중...\n",
      "200 번째 경위도 좌표계에 대한 정보 불러오는 중...\n",
      "300 번째 경위도 좌표계에 대한 정보 불러오는 중...\n",
      "400 번째 경위도 좌표계에 대한 정보 불러오는 중...\n",
      "500 번째 경위도 좌표계에 대한 정보 불러오는 중...\n",
      "600 번째 경위도 좌표계에 대한 정보 불러오는 중...\n",
      "700 번째 경위도 좌표계에 대한 정보 불러오는 중...\n"
     ]
    }
   ],
   "source": [
    "APP_KEY = '4269e8dab7d1e5016e7d1e3eaa8aba03' \n",
    "URL = 'https://dapi.kakao.com/v2/local/geo/coord2regioncode.json'\n",
    "\n",
    "df_all = pd.read_csv('역별위치_위도경도.csv') \n",
    "df = df_all[['line', 'name', 'lat', 'lng']] # 기관ID, 병원경도, 병원위도 열만 추출 (도로명주소는 일부러 날림)\n",
    "\n",
    "\n",
    "for i in range(len(df)): \n",
    "    x_crd = float(df.loc[i, ['lng']])\n",
    "    y_crd = float(df.loc[i, ['lat']])\n",
    "    address = get_address(x_crd, y_crd)\n",
    "    code = get_code(x_crd, y_crd)\n",
    "    df.loc[i, ['ADDRESS']] = address\n",
    "    df.loc[i, ['CODE']] = code\n",
    "    \n",
    "    if i%100 == 0:\n",
    "        print('{} 번째 경위도 좌표계에 대한 정보 불러오는 중...'.format(i))"
   ]
  },
  {
   "cell_type": "code",
   "execution_count": 17,
   "id": "d13c9f53",
   "metadata": {},
   "outputs": [],
   "source": [
    "df.to_csv('지하철 역별위치_행정동 변환.csv', index=False)"
   ]
  },
  {
   "cell_type": "markdown",
   "id": "d50a2b15",
   "metadata": {},
   "source": [
    "#### 서울시 추출"
   ]
  },
  {
   "cell_type": "code",
   "execution_count": 196,
   "id": "be216980",
   "metadata": {
    "scrolled": true
   },
   "outputs": [
    {
     "data": {
      "text/html": [
       "<div>\n",
       "<style scoped>\n",
       "    .dataframe tbody tr th:only-of-type {\n",
       "        vertical-align: middle;\n",
       "    }\n",
       "\n",
       "    .dataframe tbody tr th {\n",
       "        vertical-align: top;\n",
       "    }\n",
       "\n",
       "    .dataframe thead th {\n",
       "        text-align: right;\n",
       "    }\n",
       "</style>\n",
       "<table border=\"1\" class=\"dataframe\">\n",
       "  <thead>\n",
       "    <tr style=\"text-align: right;\">\n",
       "      <th></th>\n",
       "      <th>line</th>\n",
       "      <th>name</th>\n",
       "      <th>lat</th>\n",
       "      <th>lng</th>\n",
       "      <th>ADDRESS</th>\n",
       "      <th>CODE</th>\n",
       "    </tr>\n",
       "  </thead>\n",
       "  <tbody>\n",
       "    <tr>\n",
       "      <th>0</th>\n",
       "      <td>01호선</td>\n",
       "      <td>녹양</td>\n",
       "      <td>37.759380</td>\n",
       "      <td>127.042292</td>\n",
       "      <td>경기도 의정부시 녹양동</td>\n",
       "      <td>4.115011e+09</td>\n",
       "    </tr>\n",
       "    <tr>\n",
       "      <th>1</th>\n",
       "      <td>01호선</td>\n",
       "      <td>남영</td>\n",
       "      <td>37.541021</td>\n",
       "      <td>126.971300</td>\n",
       "      <td>서울특별시 용산구 갈월동</td>\n",
       "      <td>1.117010e+09</td>\n",
       "    </tr>\n",
       "    <tr>\n",
       "      <th>2</th>\n",
       "      <td>01호선</td>\n",
       "      <td>용산</td>\n",
       "      <td>37.529849</td>\n",
       "      <td>126.964561</td>\n",
       "      <td>서울특별시 용산구 한강로3가</td>\n",
       "      <td>1.117013e+09</td>\n",
       "    </tr>\n",
       "    <tr>\n",
       "      <th>3</th>\n",
       "      <td>01호선</td>\n",
       "      <td>노량진</td>\n",
       "      <td>37.514219</td>\n",
       "      <td>126.942454</td>\n",
       "      <td>서울특별시 동작구 노량진동</td>\n",
       "      <td>1.159010e+09</td>\n",
       "    </tr>\n",
       "    <tr>\n",
       "      <th>4</th>\n",
       "      <td>01호선</td>\n",
       "      <td>대방</td>\n",
       "      <td>37.513342</td>\n",
       "      <td>126.926382</td>\n",
       "      <td>서울특별시 영등포구 신길동</td>\n",
       "      <td>1.156013e+09</td>\n",
       "    </tr>\n",
       "    <tr>\n",
       "      <th>...</th>\n",
       "      <td>...</td>\n",
       "      <td>...</td>\n",
       "      <td>...</td>\n",
       "      <td>...</td>\n",
       "      <td>...</td>\n",
       "      <td>...</td>\n",
       "    </tr>\n",
       "    <tr>\n",
       "      <th>725</th>\n",
       "      <td>인천선</td>\n",
       "      <td>지식정보단지</td>\n",
       "      <td>37.378384</td>\n",
       "      <td>126.645168</td>\n",
       "      <td>인천광역시 연수구 송도동</td>\n",
       "      <td>2.818511e+09</td>\n",
       "    </tr>\n",
       "    <tr>\n",
       "      <th>726</th>\n",
       "      <td>인천선</td>\n",
       "      <td>인천대입구</td>\n",
       "      <td>37.386007</td>\n",
       "      <td>126.639484</td>\n",
       "      <td>인천광역시 연수구 송도동</td>\n",
       "      <td>2.818511e+09</td>\n",
       "    </tr>\n",
       "    <tr>\n",
       "      <th>727</th>\n",
       "      <td>인천선</td>\n",
       "      <td>센트럴파크</td>\n",
       "      <td>37.393054</td>\n",
       "      <td>126.634729</td>\n",
       "      <td>인천광역시 연수구 송도동</td>\n",
       "      <td>2.818511e+09</td>\n",
       "    </tr>\n",
       "    <tr>\n",
       "      <th>728</th>\n",
       "      <td>인천선</td>\n",
       "      <td>국제업무지구</td>\n",
       "      <td>37.399907</td>\n",
       "      <td>126.630347</td>\n",
       "      <td>인천광역시 연수구 송도동</td>\n",
       "      <td>2.818511e+09</td>\n",
       "    </tr>\n",
       "    <tr>\n",
       "      <th>729</th>\n",
       "      <td>인천선</td>\n",
       "      <td>간석오거리</td>\n",
       "      <td>37.467048</td>\n",
       "      <td>126.707938</td>\n",
       "      <td>인천광역시 남동구 간석동</td>\n",
       "      <td>2.820010e+09</td>\n",
       "    </tr>\n",
       "  </tbody>\n",
       "</table>\n",
       "<p>730 rows × 6 columns</p>\n",
       "</div>"
      ],
      "text/plain": [
       "     line    name        lat         lng          ADDRESS          CODE\n",
       "0    01호선      녹양  37.759380  127.042292     경기도 의정부시 녹양동  4.115011e+09\n",
       "1    01호선      남영  37.541021  126.971300    서울특별시 용산구 갈월동  1.117010e+09\n",
       "2    01호선      용산  37.529849  126.964561  서울특별시 용산구 한강로3가  1.117013e+09\n",
       "3    01호선     노량진  37.514219  126.942454   서울특별시 동작구 노량진동  1.159010e+09\n",
       "4    01호선      대방  37.513342  126.926382   서울특별시 영등포구 신길동  1.156013e+09\n",
       "..    ...     ...        ...         ...              ...           ...\n",
       "725   인천선  지식정보단지  37.378384  126.645168    인천광역시 연수구 송도동  2.818511e+09\n",
       "726   인천선   인천대입구  37.386007  126.639484    인천광역시 연수구 송도동  2.818511e+09\n",
       "727   인천선   센트럴파크  37.393054  126.634729    인천광역시 연수구 송도동  2.818511e+09\n",
       "728   인천선  국제업무지구  37.399907  126.630347    인천광역시 연수구 송도동  2.818511e+09\n",
       "729   인천선   간석오거리  37.467048  126.707938    인천광역시 남동구 간석동  2.820010e+09\n",
       "\n",
       "[730 rows x 6 columns]"
      ]
     },
     "execution_count": 196,
     "metadata": {},
     "output_type": "execute_result"
    }
   ],
   "source": [
    "data = pd.read_csv('지하철 역별위치_행정동 변환.csv')\n",
    "data"
   ]
  },
  {
   "cell_type": "code",
   "execution_count": 197,
   "id": "2ae82f33",
   "metadata": {},
   "outputs": [],
   "source": [
    "data['시'] = data.ADDRESS.str.split(' ').str[0]\n",
    "data['구'] = data.ADDRESS.str.split(' ').str[1]\n",
    "data['동'] = data.ADDRESS.str.split(' ').str[2]\n",
    "data = data.drop(['lat', 'lng', 'ADDRESS', 'CODE'], axis=1)"
   ]
  },
  {
   "cell_type": "code",
   "execution_count": 199,
   "id": "d98e713d",
   "metadata": {
    "scrolled": true
   },
   "outputs": [
    {
     "data": {
      "text/html": [
       "<div>\n",
       "<style scoped>\n",
       "    .dataframe tbody tr th:only-of-type {\n",
       "        vertical-align: middle;\n",
       "    }\n",
       "\n",
       "    .dataframe tbody tr th {\n",
       "        vertical-align: top;\n",
       "    }\n",
       "\n",
       "    .dataframe thead th {\n",
       "        text-align: right;\n",
       "    }\n",
       "</style>\n",
       "<table border=\"1\" class=\"dataframe\">\n",
       "  <thead>\n",
       "    <tr style=\"text-align: right;\">\n",
       "      <th></th>\n",
       "      <th>line</th>\n",
       "      <th>name</th>\n",
       "      <th>시</th>\n",
       "      <th>구</th>\n",
       "      <th>동</th>\n",
       "    </tr>\n",
       "  </thead>\n",
       "  <tbody>\n",
       "    <tr>\n",
       "      <th>0</th>\n",
       "      <td>01호선</td>\n",
       "      <td>녹양</td>\n",
       "      <td>경기도</td>\n",
       "      <td>의정부시</td>\n",
       "      <td>녹양동</td>\n",
       "    </tr>\n",
       "    <tr>\n",
       "      <th>1</th>\n",
       "      <td>01호선</td>\n",
       "      <td>남영</td>\n",
       "      <td>서울특별시</td>\n",
       "      <td>용산구</td>\n",
       "      <td>갈월동</td>\n",
       "    </tr>\n",
       "    <tr>\n",
       "      <th>2</th>\n",
       "      <td>01호선</td>\n",
       "      <td>용산</td>\n",
       "      <td>서울특별시</td>\n",
       "      <td>용산구</td>\n",
       "      <td>한강로3가</td>\n",
       "    </tr>\n",
       "    <tr>\n",
       "      <th>3</th>\n",
       "      <td>01호선</td>\n",
       "      <td>노량진</td>\n",
       "      <td>서울특별시</td>\n",
       "      <td>동작구</td>\n",
       "      <td>노량진동</td>\n",
       "    </tr>\n",
       "    <tr>\n",
       "      <th>4</th>\n",
       "      <td>01호선</td>\n",
       "      <td>대방</td>\n",
       "      <td>서울특별시</td>\n",
       "      <td>영등포구</td>\n",
       "      <td>신길동</td>\n",
       "    </tr>\n",
       "    <tr>\n",
       "      <th>...</th>\n",
       "      <td>...</td>\n",
       "      <td>...</td>\n",
       "      <td>...</td>\n",
       "      <td>...</td>\n",
       "      <td>...</td>\n",
       "    </tr>\n",
       "    <tr>\n",
       "      <th>725</th>\n",
       "      <td>인천선</td>\n",
       "      <td>지식정보단지</td>\n",
       "      <td>인천광역시</td>\n",
       "      <td>연수구</td>\n",
       "      <td>송도동</td>\n",
       "    </tr>\n",
       "    <tr>\n",
       "      <th>726</th>\n",
       "      <td>인천선</td>\n",
       "      <td>인천대입구</td>\n",
       "      <td>인천광역시</td>\n",
       "      <td>연수구</td>\n",
       "      <td>송도동</td>\n",
       "    </tr>\n",
       "    <tr>\n",
       "      <th>727</th>\n",
       "      <td>인천선</td>\n",
       "      <td>센트럴파크</td>\n",
       "      <td>인천광역시</td>\n",
       "      <td>연수구</td>\n",
       "      <td>송도동</td>\n",
       "    </tr>\n",
       "    <tr>\n",
       "      <th>728</th>\n",
       "      <td>인천선</td>\n",
       "      <td>국제업무지구</td>\n",
       "      <td>인천광역시</td>\n",
       "      <td>연수구</td>\n",
       "      <td>송도동</td>\n",
       "    </tr>\n",
       "    <tr>\n",
       "      <th>729</th>\n",
       "      <td>인천선</td>\n",
       "      <td>간석오거리</td>\n",
       "      <td>인천광역시</td>\n",
       "      <td>남동구</td>\n",
       "      <td>간석동</td>\n",
       "    </tr>\n",
       "  </tbody>\n",
       "</table>\n",
       "<p>730 rows × 5 columns</p>\n",
       "</div>"
      ],
      "text/plain": [
       "     line    name      시     구      동\n",
       "0    01호선      녹양    경기도  의정부시    녹양동\n",
       "1    01호선      남영  서울특별시   용산구    갈월동\n",
       "2    01호선      용산  서울특별시   용산구  한강로3가\n",
       "3    01호선     노량진  서울특별시   동작구   노량진동\n",
       "4    01호선      대방  서울특별시  영등포구    신길동\n",
       "..    ...     ...    ...   ...    ...\n",
       "725   인천선  지식정보단지  인천광역시   연수구    송도동\n",
       "726   인천선   인천대입구  인천광역시   연수구    송도동\n",
       "727   인천선   센트럴파크  인천광역시   연수구    송도동\n",
       "728   인천선  국제업무지구  인천광역시   연수구    송도동\n",
       "729   인천선   간석오거리  인천광역시   남동구    간석동\n",
       "\n",
       "[730 rows x 5 columns]"
      ]
     },
     "execution_count": 199,
     "metadata": {},
     "output_type": "execute_result"
    }
   ],
   "source": [
    "data"
   ]
  },
  {
   "cell_type": "code",
   "execution_count": 214,
   "id": "37aa3e38",
   "metadata": {
    "scrolled": true
   },
   "outputs": [
    {
     "name": "stdout",
     "output_type": "stream",
     "text": [
      "<class 'pandas.core.frame.DataFrame'>\n",
      "Int64Index: 384 entries, 1 to 658\n",
      "Data columns (total 5 columns):\n",
      " #   Column  Non-Null Count  Dtype \n",
      "---  ------  --------------  ----- \n",
      " 0   line    384 non-null    object\n",
      " 1   name    384 non-null    object\n",
      " 2   시       384 non-null    object\n",
      " 3   구       384 non-null    object\n",
      " 4   동       384 non-null    object\n",
      "dtypes: object(5)\n",
      "memory usage: 18.0+ KB\n"
     ]
    }
   ],
   "source": [
    "seoul = data[data.시 == '서울특별시']\n",
    "seoul.info()"
   ]
  },
  {
   "cell_type": "code",
   "execution_count": 215,
   "id": "09dd3b2c",
   "metadata": {},
   "outputs": [
    {
     "name": "stdout",
     "output_type": "stream",
     "text": [
      "<class 'pandas.core.frame.DataFrame'>\n",
      "Int64Index: 292 entries, 1 to 658\n",
      "Data columns (total 5 columns):\n",
      " #   Column  Non-Null Count  Dtype \n",
      "---  ------  --------------  ----- \n",
      " 0   line    292 non-null    object\n",
      " 1   name    292 non-null    object\n",
      " 2   시       292 non-null    object\n",
      " 3   구       292 non-null    object\n",
      " 4   동       292 non-null    object\n",
      "dtypes: object(5)\n",
      "memory usage: 13.7+ KB\n"
     ]
    }
   ],
   "source": [
    "seoul = seoul.drop_duplicates(['name'])\n",
    "seoul.info()"
   ]
  },
  {
   "cell_type": "code",
   "execution_count": 216,
   "id": "16be793f",
   "metadata": {
    "scrolled": true
   },
   "outputs": [],
   "source": [
    "seoul = seoul.drop('시', axis=1)"
   ]
  },
  {
   "cell_type": "code",
   "execution_count": 217,
   "id": "10e9fd1c",
   "metadata": {},
   "outputs": [],
   "source": [
    "seoul.to_csv('지하철 역별위치_서울 행정동(중복 제거).csv', index=False)"
   ]
  },
  {
   "cell_type": "code",
   "execution_count": 192,
   "id": "afd05590",
   "metadata": {
    "scrolled": true
   },
   "outputs": [
    {
     "data": {
      "text/plain": [
       "0       사직동\n",
       "1       삼청동\n",
       "2       부암동\n",
       "3       평창동\n",
       "4       무악동\n",
       "       ... \n",
       "421    천호2동\n",
       "422      길동\n",
       "423     강일동\n",
       "424    상일1동\n",
       "425    상일2동\n",
       "Name: 행정동, Length: 426, dtype: object"
      ]
     },
     "execution_count": 192,
     "metadata": {},
     "output_type": "execute_result"
    }
   ],
   "source": [
    "dd = pd.read_csv('서울시 행정동.csv' ,encoding='cp949')\n",
    "ddd = dd['행정동']\n",
    "ddd"
   ]
  },
  {
   "cell_type": "code",
   "execution_count": 194,
   "id": "36153226",
   "metadata": {},
   "outputs": [
    {
     "data": {
      "text/html": [
       "<div>\n",
       "<style scoped>\n",
       "    .dataframe tbody tr th:only-of-type {\n",
       "        vertical-align: middle;\n",
       "    }\n",
       "\n",
       "    .dataframe tbody tr th {\n",
       "        vertical-align: top;\n",
       "    }\n",
       "\n",
       "    .dataframe thead th {\n",
       "        text-align: right;\n",
       "    }\n",
       "</style>\n",
       "<table border=\"1\" class=\"dataframe\">\n",
       "  <thead>\n",
       "    <tr style=\"text-align: right;\">\n",
       "      <th></th>\n",
       "      <th>line</th>\n",
       "      <th>name</th>\n",
       "      <th>구</th>\n",
       "      <th>동</th>\n",
       "    </tr>\n",
       "  </thead>\n",
       "  <tbody>\n",
       "    <tr>\n",
       "      <th>2</th>\n",
       "      <td>03호선</td>\n",
       "      <td>신사</td>\n",
       "      <td>강남구</td>\n",
       "      <td>논현동</td>\n",
       "    </tr>\n",
       "    <tr>\n",
       "      <th>3</th>\n",
       "      <td>07호선</td>\n",
       "      <td>강남구청</td>\n",
       "      <td>강남구</td>\n",
       "      <td>논현동</td>\n",
       "    </tr>\n",
       "    <tr>\n",
       "      <th>4</th>\n",
       "      <td>07호선</td>\n",
       "      <td>학동</td>\n",
       "      <td>강남구</td>\n",
       "      <td>논현동</td>\n",
       "    </tr>\n",
       "    <tr>\n",
       "      <th>5</th>\n",
       "      <td>07호선</td>\n",
       "      <td>논현</td>\n",
       "      <td>강남구</td>\n",
       "      <td>논현동</td>\n",
       "    </tr>\n",
       "    <tr>\n",
       "      <th>6</th>\n",
       "      <td>분당선</td>\n",
       "      <td>강남구청</td>\n",
       "      <td>강남구</td>\n",
       "      <td>논현동</td>\n",
       "    </tr>\n",
       "    <tr>\n",
       "      <th>...</th>\n",
       "      <td>...</td>\n",
       "      <td>...</td>\n",
       "      <td>...</td>\n",
       "      <td>...</td>\n",
       "    </tr>\n",
       "    <tr>\n",
       "      <th>379</th>\n",
       "      <td>경춘선</td>\n",
       "      <td>망우</td>\n",
       "      <td>중랑구</td>\n",
       "      <td>상봉동</td>\n",
       "    </tr>\n",
       "    <tr>\n",
       "      <th>380</th>\n",
       "      <td>06호선</td>\n",
       "      <td>봉화산</td>\n",
       "      <td>중랑구</td>\n",
       "      <td>신내동</td>\n",
       "    </tr>\n",
       "    <tr>\n",
       "      <th>381</th>\n",
       "      <td>07호선</td>\n",
       "      <td>중화</td>\n",
       "      <td>중랑구</td>\n",
       "      <td>중화동</td>\n",
       "    </tr>\n",
       "    <tr>\n",
       "      <th>382</th>\n",
       "      <td>경의선</td>\n",
       "      <td>중랑</td>\n",
       "      <td>중랑구</td>\n",
       "      <td>중화동</td>\n",
       "    </tr>\n",
       "    <tr>\n",
       "      <th>383</th>\n",
       "      <td>경춘선</td>\n",
       "      <td>중랑</td>\n",
       "      <td>중랑구</td>\n",
       "      <td>중화동</td>\n",
       "    </tr>\n",
       "  </tbody>\n",
       "</table>\n",
       "<p>248 rows × 4 columns</p>\n",
       "</div>"
      ],
      "text/plain": [
       "     line  name    구    동\n",
       "2    03호선    신사  강남구  논현동\n",
       "3    07호선  강남구청  강남구  논현동\n",
       "4    07호선    학동  강남구  논현동\n",
       "5    07호선    논현  강남구  논현동\n",
       "6     분당선  강남구청  강남구  논현동\n",
       "..    ...   ...  ...  ...\n",
       "379   경춘선    망우  중랑구  상봉동\n",
       "380  06호선   봉화산  중랑구  신내동\n",
       "381  07호선    중화  중랑구  중화동\n",
       "382   경의선    중랑  중랑구  중화동\n",
       "383   경춘선    중랑  중랑구  중화동\n",
       "\n",
       "[248 rows x 4 columns]"
      ]
     },
     "execution_count": 194,
     "metadata": {},
     "output_type": "execute_result"
    }
   ],
   "source": [
    "seoul[~seoul.동.isin(ddd)]"
   ]
  },
  {
   "cell_type": "code",
   "execution_count": 190,
   "id": "27dfecbd",
   "metadata": {
    "scrolled": true
   },
   "outputs": [
    {
     "data": {
      "text/html": [
       "<div>\n",
       "<style scoped>\n",
       "    .dataframe tbody tr th:only-of-type {\n",
       "        vertical-align: middle;\n",
       "    }\n",
       "\n",
       "    .dataframe tbody tr th {\n",
       "        vertical-align: top;\n",
       "    }\n",
       "\n",
       "    .dataframe thead th {\n",
       "        text-align: right;\n",
       "    }\n",
       "</style>\n",
       "<table border=\"1\" class=\"dataframe\">\n",
       "  <thead>\n",
       "    <tr style=\"text-align: right;\">\n",
       "      <th></th>\n",
       "      <th>line</th>\n",
       "      <th>name</th>\n",
       "      <th>구</th>\n",
       "      <th>동</th>\n",
       "    </tr>\n",
       "  </thead>\n",
       "  <tbody>\n",
       "  </tbody>\n",
       "</table>\n",
       "</div>"
      ],
      "text/plain": [
       "Empty DataFrame\n",
       "Columns: [line, name, 구, 동]\n",
       "Index: []"
      ]
     },
     "execution_count": 190,
     "metadata": {},
     "output_type": "execute_result"
    }
   ],
   "source": [
    "seoul[seoul['동'].str.contains('동') == False]"
   ]
  },
  {
   "cell_type": "code",
   "execution_count": 165,
   "id": "8914380f",
   "metadata": {},
   "outputs": [],
   "source": [
    "seoul.iloc[186:189, 3] = '충현동'\n",
    "seoul.iloc[305:310, 3] = '한강로동'\n",
    "seoul.iloc[333, 3] = '청운효자동'\n",
    "seoul.iloc[337, 3] = '종로1.2.3.4가동'\n",
    "seoul.iloc[338:341, 3] = '종로5.6가동'\n",
    "seoul.iloc[352, 3] = '명동'\n",
    "seoul.iloc[353:357, 3] = '을지로동'\n",
    "seoul.iloc[357:360, 3] = '광희동'\n",
    "seoul.iloc[361:364, 3] = '소공동'\n",
    "\n",
    "seoul = seoul.sort_values(by=['구', '동'])\n",
    "seoul = seoul.reset_index(drop=True)"
   ]
  },
  {
   "cell_type": "markdown",
   "id": "d69f0183",
   "metadata": {},
   "source": [
    "#### 동별 정렬"
   ]
  },
  {
   "cell_type": "code",
   "execution_count": 107,
   "id": "17302d9a",
   "metadata": {},
   "outputs": [],
   "source": [
    "sss = ss.groupby(by=['구', '동'], as_index=False).size()"
   ]
  }
 ],
 "metadata": {
  "kernelspec": {
   "display_name": "Python 3 (ipykernel)",
   "language": "python",
   "name": "python3"
  },
  "language_info": {
   "codemirror_mode": {
    "name": "ipython",
    "version": 3
   },
   "file_extension": ".py",
   "mimetype": "text/x-python",
   "name": "python",
   "nbconvert_exporter": "python",
   "pygments_lexer": "ipython3",
   "version": "3.8.5"
  }
 },
 "nbformat": 4,
 "nbformat_minor": 5
}
