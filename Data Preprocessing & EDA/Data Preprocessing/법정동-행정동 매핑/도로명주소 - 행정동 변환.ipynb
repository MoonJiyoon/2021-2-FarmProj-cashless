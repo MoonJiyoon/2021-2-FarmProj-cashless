{
 "cells": [
  {
   "cell_type": "code",
   "execution_count": 53,
   "id": "428ed86b",
   "metadata": {},
   "outputs": [
    {
     "data": {
      "text/html": [
       "<div>\n",
       "<style scoped>\n",
       "    .dataframe tbody tr th:only-of-type {\n",
       "        vertical-align: middle;\n",
       "    }\n",
       "\n",
       "    .dataframe tbody tr th {\n",
       "        vertical-align: top;\n",
       "    }\n",
       "\n",
       "    .dataframe thead th {\n",
       "        text-align: right;\n",
       "    }\n",
       "</style>\n",
       "<table border=\"1\" class=\"dataframe\">\n",
       "  <thead>\n",
       "    <tr style=\"text-align: right;\">\n",
       "      <th></th>\n",
       "      <th>Unnamed: 0</th>\n",
       "      <th>은행</th>\n",
       "      <th>지점</th>\n",
       "      <th>도로명주소</th>\n",
       "    </tr>\n",
       "  </thead>\n",
       "  <tbody>\n",
       "    <tr>\n",
       "      <th>0</th>\n",
       "      <td>0</td>\n",
       "      <td>KB국민</td>\n",
       "      <td>KB국민은행ATM 양재역종합금융센터점</td>\n",
       "      <td>서울 강남구 강남대로 262</td>\n",
       "    </tr>\n",
       "    <tr>\n",
       "      <th>1</th>\n",
       "      <td>1</td>\n",
       "      <td>KB국민</td>\n",
       "      <td>KB국민은행ATM 역삼서점</td>\n",
       "      <td>서울 강남구 강남대로 318</td>\n",
       "    </tr>\n",
       "    <tr>\n",
       "      <th>2</th>\n",
       "      <td>2</td>\n",
       "      <td>KB국민</td>\n",
       "      <td>KB국민은행ATM 역삼동종합금융센터점</td>\n",
       "      <td>서울 강남구 강남대로 354</td>\n",
       "    </tr>\n",
       "    <tr>\n",
       "      <th>3</th>\n",
       "      <td>3</td>\n",
       "      <td>KB국민</td>\n",
       "      <td>KB국민은행ATM 강남타운점</td>\n",
       "      <td>서울 강남구 강남대로 388</td>\n",
       "    </tr>\n",
       "    <tr>\n",
       "      <th>4</th>\n",
       "      <td>4</td>\n",
       "      <td>KB국민</td>\n",
       "      <td>KB국민은행ATM 개포남점</td>\n",
       "      <td>서울 강남구 개포로 224</td>\n",
       "    </tr>\n",
       "    <tr>\n",
       "      <th>5</th>\n",
       "      <td>5</td>\n",
       "      <td>KB국민</td>\n",
       "      <td>KB국민은행ATM 수서경찰서</td>\n",
       "      <td>서울 강남구 개포로 617</td>\n",
       "    </tr>\n",
       "    <tr>\n",
       "      <th>6</th>\n",
       "      <td>6</td>\n",
       "      <td>KB국민</td>\n",
       "      <td>KB국민은행ATM 대청역점</td>\n",
       "      <td>서울 강남구 개포로 623</td>\n",
       "    </tr>\n",
       "    <tr>\n",
       "      <th>7</th>\n",
       "      <td>7</td>\n",
       "      <td>KB국민</td>\n",
       "      <td>KB국민은행ATM 수서역점</td>\n",
       "      <td>서울 강남구 광평로 280</td>\n",
       "    </tr>\n",
       "    <tr>\n",
       "      <th>8</th>\n",
       "      <td>8</td>\n",
       "      <td>KB국민</td>\n",
       "      <td>KB국민은행ATM 로즈데일관리단(B2층)</td>\n",
       "      <td>서울 강남구 광평로 280</td>\n",
       "    </tr>\n",
       "    <tr>\n",
       "      <th>9</th>\n",
       "      <td>9</td>\n",
       "      <td>KB국민</td>\n",
       "      <td>KB국민은행ATM 수서삼성 365자동화점</td>\n",
       "      <td>서울 강남구 광평로31길 27</td>\n",
       "    </tr>\n",
       "  </tbody>\n",
       "</table>\n",
       "</div>"
      ],
      "text/plain": [
       "   Unnamed: 0    은행                      지점             도로명주소\n",
       "0           0  KB국민    KB국민은행ATM 양재역종합금융센터점   서울 강남구 강남대로 262\n",
       "1           1  KB국민          KB국민은행ATM 역삼서점   서울 강남구 강남대로 318\n",
       "2           2  KB국민    KB국민은행ATM 역삼동종합금융센터점   서울 강남구 강남대로 354\n",
       "3           3  KB국민         KB국민은행ATM 강남타운점   서울 강남구 강남대로 388\n",
       "4           4  KB국민          KB국민은행ATM 개포남점    서울 강남구 개포로 224\n",
       "5           5  KB국민         KB국민은행ATM 수서경찰서    서울 강남구 개포로 617\n",
       "6           6  KB국민          KB국민은행ATM 대청역점    서울 강남구 개포로 623\n",
       "7           7  KB국민          KB국민은행ATM 수서역점    서울 강남구 광평로 280\n",
       "8           8  KB국민  KB국민은행ATM 로즈데일관리단(B2층)    서울 강남구 광평로 280\n",
       "9           9  KB국민  KB국민은행ATM 수서삼성 365자동화점  서울 강남구 광평로31길 27"
      ]
     },
     "execution_count": 53,
     "metadata": {},
     "output_type": "execute_result"
    }
   ],
   "source": [
    "import pandas as pd\n",
    "df = pd.read_csv('주요은행5개 통합2.csv', encoding='cp949')\n",
    "df.head(10)"
   ]
  },
  {
   "cell_type": "code",
   "execution_count": 54,
   "id": "8e2a5871",
   "metadata": {},
   "outputs": [
    {
     "data": {
      "text/plain": [
       "0       서울 강남구 강남대로 262\n",
       "1       서울 강남구 강남대로 318\n",
       "2       서울 강남구 강남대로 354\n",
       "3       서울 강남구 강남대로 388\n",
       "4        서울 강남구 개포로 224\n",
       "             ...       \n",
       "2777    서울 중랑구 사가정로 375\n",
       "2778    서울 중랑구 사가정로 375\n",
       "2779    서울 중랑구 용마산로 502\n",
       "2780     서울 중랑구 중랑역로 51\n",
       "2781     서울 중랑구 중랑역로 54\n",
       "Name: 도로명주소, Length: 2782, dtype: object"
      ]
     },
     "execution_count": 54,
     "metadata": {},
     "output_type": "execute_result"
    }
   ],
   "source": [
    "addrs = df['도로명주소']\n",
    "addrs"
   ]
  },
  {
   "cell_type": "code",
   "execution_count": 55,
   "id": "12c318cf",
   "metadata": {},
   "outputs": [],
   "source": [
    "locations = []\n",
    "for addr in addrs:\n",
    "    url = 'https://dapi.kakao.com/v2/local/search/address.json?query={}'.format(addr)\n",
    "    headers = {\n",
    "    ## 여러분의 카카오 API의 REST API키를 아래 예시와 같이 입력해주세요\n",
    "    ## \"Authorization\": \"KakaoAK REST API키 입력 gogo\"}\n",
    "    \"Authorization\": \"KakaoAK 4269e8dab7d1e5016e7d1e3eaa8aba03\"}\n",
    "    place = requests.get(url, headers = headers).json()['documents']\n",
    "    locations.append(place)"
   ]
  },
  {
   "cell_type": "code",
   "execution_count": 56,
   "id": "a88e1937",
   "metadata": {},
   "outputs": [
    {
     "name": "stdout",
     "output_type": "stream",
     "text": [
      "100 번째 주소 못가져옴\n",
      "101 번째 주소 못가져옴\n",
      "129 번째 주소 못가져옴\n",
      "152 번째 주소 못가져옴\n",
      "232 번째 주소 못가져옴\n",
      "233 번째 주소 못가져옴\n",
      "273 번째 주소 못가져옴\n",
      "275 번째 주소 못가져옴\n",
      "276 번째 주소 못가져옴\n",
      "277 번째 주소 못가져옴\n",
      "285 번째 주소 못가져옴\n",
      "295 번째 주소 못가져옴\n",
      "345 번째 주소 못가져옴\n",
      "389 번째 주소 못가져옴\n",
      "408 번째 주소 못가져옴\n",
      "423 번째 주소 못가져옴\n",
      "424 번째 주소 못가져옴\n",
      "425 번째 주소 못가져옴\n",
      "460 번째 주소 못가져옴\n",
      "482 번째 주소 못가져옴\n",
      "494 번째 주소 못가져옴\n",
      "589 번째 주소 못가져옴\n",
      "609 번째 주소 못가져옴\n",
      "641 번째 주소 못가져옴\n",
      "653 번째 주소 못가져옴\n",
      "722 번째 주소 못가져옴\n",
      "723 번째 주소 못가져옴\n",
      "893 번째 주소 못가져옴\n",
      "1460 번째 주소 못가져옴\n",
      "1599 번째 주소 못가져옴\n",
      "1850 번째 주소 못가져옴\n",
      "1945 번째 주소 못가져옴\n",
      "2451 번째 주소 못가져옴\n",
      "2529 번째 주소 못가져옴\n",
      "2734 번째 주소 못가져옴\n"
     ]
    }
   ],
   "source": [
    "city = [] ## 시, 군\n",
    "town = [] ## 동, 읍, 면\n",
    "for i in range(len(locations)):\n",
    "    \n",
    "    try:\n",
    "        city.append(locations[i][0].get('address').get('region_2depth_name'))\n",
    "        town.append(locations[i][0].get('address').get('region_3depth_name'))\n",
    "        \n",
    "    except IndexError:\n",
    "        print(i,'번째 주소 못가져옴', end ='')\n",
    "        print()\n",
    "        city.append('없음')\n",
    "        town.append('없음')\n",
    "    \n",
    "    except AttributeError:\n",
    "        city.append(locations[i][0].get('road_address').get('region_2depth_name'))\n",
    "        town.append(locations[i][0].get('road_address').get('region_3depth_name'))"
   ]
  },
  {
   "cell_type": "code",
   "execution_count": 57,
   "id": "98a07b93",
   "metadata": {},
   "outputs": [],
   "source": [
    "import numpy as np"
   ]
  },
  {
   "cell_type": "code",
   "execution_count": 58,
   "id": "42a5e6c8",
   "metadata": {},
   "outputs": [
    {
     "data": {
      "text/html": [
       "<div>\n",
       "<style scoped>\n",
       "    .dataframe tbody tr th:only-of-type {\n",
       "        vertical-align: middle;\n",
       "    }\n",
       "\n",
       "    .dataframe tbody tr th {\n",
       "        vertical-align: top;\n",
       "    }\n",
       "\n",
       "    .dataframe thead th {\n",
       "        text-align: right;\n",
       "    }\n",
       "</style>\n",
       "<table border=\"1\" class=\"dataframe\">\n",
       "  <thead>\n",
       "    <tr style=\"text-align: right;\">\n",
       "      <th></th>\n",
       "      <th>region_2depth_name</th>\n",
       "      <th>region_3depth_name</th>\n",
       "    </tr>\n",
       "  </thead>\n",
       "  <tbody>\n",
       "    <tr>\n",
       "      <th>0</th>\n",
       "      <td>강남구</td>\n",
       "      <td>도곡동</td>\n",
       "    </tr>\n",
       "    <tr>\n",
       "      <th>1</th>\n",
       "      <td>강남구</td>\n",
       "      <td>역삼동</td>\n",
       "    </tr>\n",
       "    <tr>\n",
       "      <th>2</th>\n",
       "      <td>강남구</td>\n",
       "      <td>역삼동</td>\n",
       "    </tr>\n",
       "    <tr>\n",
       "      <th>3</th>\n",
       "      <td>강남구</td>\n",
       "      <td>역삼동</td>\n",
       "    </tr>\n",
       "    <tr>\n",
       "      <th>4</th>\n",
       "      <td>강남구</td>\n",
       "      <td>개포동</td>\n",
       "    </tr>\n",
       "  </tbody>\n",
       "</table>\n",
       "</div>"
      ],
      "text/plain": [
       "  region_2depth_name region_3depth_name\n",
       "0                강남구                도곡동\n",
       "1                강남구                역삼동\n",
       "2                강남구                역삼동\n",
       "3                강남구                역삼동\n",
       "4                강남구                개포동"
      ]
     },
     "execution_count": 58,
     "metadata": {},
     "output_type": "execute_result"
    }
   ],
   "source": [
    "city_town = np.array([city,town]).T\n",
    "df_temp = pd.DataFrame(city_town, columns = ['region_2depth_name','region_3depth_name'])\n",
    "df_temp.head()"
   ]
  },
  {
   "cell_type": "code",
   "execution_count": 59,
   "id": "1111045d",
   "metadata": {},
   "outputs": [],
   "source": [
    "df_temp.to_csv('ATM.csv')"
   ]
  },
  {
   "cell_type": "code",
   "execution_count": null,
   "id": "3b29650a",
   "metadata": {},
   "outputs": [],
   "source": []
  }
 ],
 "metadata": {
  "kernelspec": {
   "display_name": "Python 3 (ipykernel)",
   "language": "python",
   "name": "python3"
  },
  "language_info": {
   "codemirror_mode": {
    "name": "ipython",
    "version": 3
   },
   "file_extension": ".py",
   "mimetype": "text/x-python",
   "name": "python",
   "nbconvert_exporter": "python",
   "pygments_lexer": "ipython3",
   "version": "3.9.6"
  }
 },
 "nbformat": 4,
 "nbformat_minor": 5
}
